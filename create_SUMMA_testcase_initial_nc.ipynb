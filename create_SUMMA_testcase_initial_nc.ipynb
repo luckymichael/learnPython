{
 "cells": [
  {
   "cell_type": "code",
   "execution_count": 1,
   "metadata": {
    "collapsed": true
   },
   "outputs": [],
   "source": [
    "import xarray as xr\n",
    "import numpy as np\n",
    "import pandas as pd\n",
    "import os\n",
    "from io import StringIO\n",
    "from collections import OrderedDict\n",
    "\n",
    "os.chdir('D:\\Cloud\\Dropbox\\postdoc\\summa\\summaData\\columbia10')"
   ]
  },
  {
   "cell_type": "code",
   "execution_count": 16,
   "metadata": {
    "collapsed": false
   },
   "outputs": [],
   "source": [
    "def strip_line(s):\n",
    "    s = s.strip()\n",
    "    if s.startswith(\"'\"):\n",
    "        istart = 1\n",
    "        iend = s.find(\"'\", 1)\n",
    "    else:\n",
    "        istart = 0\n",
    "        iend = s.find(' ') + 1\n",
    "    return s[istart:iend]\n",
    "\n",
    "def read_file_manager(f_man):\n",
    "    with open(f_man, \"r\") as f:\n",
    "        lines = f.readlines()\n",
    "        lines = [strip_line(l) for l in lines if l[0] != '!']\n",
    "        i = 0\n",
    "        keys = ['fman_ver', 'setting_path', 'input_path', 'output_path', 'decision', \n",
    "                'meta_time', 'meta_attr', 'meta_type', 'meta_force', 'meta_localpar',\n",
    "                'ouput_file', 'meta_index', 'meta_basinpar', 'meta_basinvar',\n",
    "                'local_attr', 'local_par', 'basin_par', 'forcing_list', 'initial_cond',\n",
    "                'para_trial', 'output_prefix']\n",
    "        file_man = OrderedDict(zip(keys, lines))\n",
    "        \n",
    "        return file_man\n",
    "\n",
    "    \n",
    "fman = 'settings_org/syntheticTestCases/wigmosta1999/summa_fileManager-exp1.txt'\n",
    "#%time file_man = read_file_manager(fman)"
   ]
  },
  {
   "cell_type": "code",
   "execution_count": 9,
   "metadata": {
    "collapsed": false
   },
   "outputs": [
    {
     "data": {
      "text/plain": [
       "True"
      ]
     },
     "execution_count": 9,
     "metadata": {},
     "output_type": "execute_result"
    }
   ],
   "source": [
    "np.version.release"
   ]
  },
  {
   "cell_type": "code",
   "execution_count": 3,
   "metadata": {
    "collapsed": false
   },
   "outputs": [],
   "source": [
    "def write_file_manager(file_man, file_name):    \n",
    "    # check the maximum with for the first column\n",
    "    lens = [len(v) for v in file_man.values()]\n",
    "    width_max = max(lens) + 20\n",
    "    with open(file_name, \"w\") as f:\n",
    "        for k in file_man:\n",
    "            line = \"'\" + file_man[k] + \"'\"\n",
    "            line = line.ljust(width_max)\n",
    "            line = line + '! ' + k + '\\n'\n",
    "            f.write(line)\n",
    "        f.close()\n",
    "#%time write_file_manager(file_man, file_name)"
   ]
  },
  {
   "cell_type": "code",
   "execution_count": 22,
   "metadata": {
    "collapsed": false
   },
   "outputs": [
    {
     "data": {
      "text/plain": [
       "'settings_org/syntheticTestCases/wigmosta1999/summa_fileManager-exp1.txt1'"
      ]
     },
     "execution_count": 22,
     "metadata": {},
     "output_type": "execute_result"
    }
   ],
   "source": []
  },
  {
   "cell_type": "code",
   "execution_count": 16,
   "metadata": {
    "collapsed": false
   },
   "outputs": [
    {
     "data": {
      "text/plain": [
       "67"
      ]
     },
     "execution_count": 16,
     "metadata": {},
     "output_type": "execute_result"
    }
   ],
   "source": [
    "lens = [len(v) for v in file_man.values()]\n",
    "max(lens)"
   ]
  },
  {
   "cell_type": "code",
   "execution_count": 83,
   "metadata": {
    "collapsed": false
   },
   "outputs": [
    {
     "name": "stdout",
     "output_type": "stream",
     "text": [
      "1000 loops, best of 3: 1.56 ms per loop\n"
     ]
    }
   ],
   "source": [
    "# find all inital state files\n",
    "def search_ini_files():\n",
    "    os.chdir('/home/mgou/Dropbox/postdoc/summa/summaTestCases')\n",
    "    ini_files = []\n",
    "    for dirpath, dirnames, filenames in os.walk('settings_org'):\n",
    "        for f in filenames:\n",
    "            if 'summa_zInitialCond' in f:\n",
    "                ini_files.append(os.path.join(dirpath,f))\n",
    "                os.listdir(dirpath)\n",
    "%timeit search_ini_files()"
   ]
  },
  {
   "cell_type": "code",
   "execution_count": 82,
   "metadata": {
    "collapsed": false
   },
   "outputs": [
    {
     "name": "stdout",
     "output_type": "stream",
     "text": [
      "1000 loops, best of 3: 1.54 ms per loop\n"
     ]
    }
   ],
   "source": [
    "# find all inital state files\n",
    "def search_ini_files():\n",
    "    os.chdir('/home/mgou/Dropbox/postdoc/summa/summaTestCases')\n",
    "    ini_files = []\n",
    "    for dirpath, dirnames, filenames in os.walk('settings_org'):\n",
    "        for f in filenames:\n",
    "            ini_files.append(os.path.join(dirpath,f)) if 'summa_zInitialCond' in str(f) else 'pass'\n",
    "            \n",
    "%timeit search_ini_files()"
   ]
  },
  {
   "cell_type": "code",
   "execution_count": 2,
   "metadata": {
    "collapsed": false
   },
   "outputs": [],
   "source": [
    "a = np.array([1,2,3])\n",
    "a"
   ]
  },
  {
   "cell_type": "code",
   "execution_count": 14,
   "metadata": {
    "collapsed": false
   },
   "outputs": [],
   "source": [
    "ini_file = 'settings_org/' + file_man['initial_cond']\n",
    "def read_ini_file(ini_file):\n",
    "    scalar_var_line = ''\n",
    "    layer_var_line = ''\n",
    "    scalar_var_block = False\n",
    "    layer_var_block = False\n",
    "    with open(ini_file, \"r\") as f:\n",
    "        lines = f.readlines()\n",
    "        for l in lines:\n",
    "            if l.startswith('!'):\n",
    "                continue\n",
    "            if 'start_scalar_icond' in l:\n",
    "                scalar_var_block = True\n",
    "                continue\n",
    "            if 'end_scalar_icond' in l:\n",
    "                scalar_var_block = False\n",
    "                continue\n",
    "            if 'start_layer_icond' in l:\n",
    "                layer_var_block = True\n",
    "                continue\n",
    "            if 'end_layer_icond' in l:\n",
    "                layer_var_block = False\n",
    "                break\n",
    "            if scalar_var_block:\n",
    "                scalar_var_line += l\n",
    "            if layer_var_block:\n",
    "                layer_var_line += l\n",
    "                \n",
    "    scalar_var = pd.read_table(StringIO(scalar_var_line), \n",
    "                               sep=' ', \n",
    "                               skipinitialspace=True, \n",
    "                               header=None,\n",
    "                               index_col=0,\n",
    "                               squeeze=True)\n",
    "    layer_var = pd.read_table(StringIO(layer_var_line), sep=' ', skipinitialspace=True)\n",
    "    return (scalar_var, layer_var) \n",
    "\n",
    "#%time scalar_var, layer_var = read_ini_file(ini_file)"
   ]
  },
  {
   "cell_type": "code",
   "execution_count": 19,
   "metadata": {
    "collapsed": false
   },
   "outputs": [
    {
     "data": {
      "text/plain": [
       "'syntheticTestCases/wigmosta1999/summa_zParamTrial-exp1.txt'"
      ]
     },
     "execution_count": 19,
     "metadata": {},
     "output_type": "execute_result"
    }
   ],
   "source": []
  },
  {
   "cell_type": "code",
   "execution_count": 15,
   "metadata": {
    "collapsed": false
   },
   "outputs": [],
   "source": [
    "def check_hru_num(file):\n",
    "    '''\n",
    "    query the total number of hru in the model based on paramTrial\n",
    "    '''\n",
    "    with open(file, \"r\") as f:\n",
    "            lines = f.readlines()\n",
    "            lines = [l for l in lines if l[0] != '!']\n",
    "            return (len(lines) - 1)\n",
    "            \n",
    "#%time check_hru_num('settings_org/' + file_man['para_trial'])        "
   ]
  },
  {
   "cell_type": "code",
   "execution_count": 17,
   "metadata": {
    "collapsed": false
   },
   "outputs": [],
   "source": [
    "def create_initi_nc(nhru, scalar_var, layer_var):\n",
    "    nspec = 2\n",
    "    nmidSoil = layer_var.layerType.value_counts()['soil']\n",
    "    nifcSoil = nmidSoil + 1\n",
    "    nmidToto = layer_var.shape[0]\n",
    "    nifcToto = nmidToto + 1\n",
    "    nscalarv = 1\n",
    "\n",
    "    nSnow = np.repeat(nmidToto-nmidSoil, nhru).reshape([nscalarv, nhru]).astype(np.int32)\n",
    "    nSoil = np.repeat(nmidSoil, nhru).reshape([nscalarv, nhru]).astype(np.int32)\n",
    "    dt_init = np.repeat(scalar_var['dt_init'], nhru).reshape([nscalarv, nhru])\n",
    "    scalarCanopyIce = np.repeat(scalar_var['scalarCanopyIce'], nhru).reshape([nscalarv, nhru])\n",
    "    scalarCanopyLiq = np.repeat(scalar_var['scalarCanopyLiq'], nhru).reshape([nscalarv, nhru])\n",
    "    scalarCanairTemp = np.repeat(scalar_var['scalarCanairTemp'], nhru).reshape([nscalarv, nhru])\n",
    "    scalarCanopyTemp = np.repeat(scalar_var['scalarCanopyTemp'], nhru).reshape([nscalarv, nhru])\n",
    "    scalarSnowAlbedo = np.repeat(scalar_var['scalarSnowAlbedo'], nhru).reshape([nscalarv, nhru])\n",
    "    scalarSWE = np.repeat(scalar_var['scalarSWE'], nhru).reshape([nscalarv, nhru])\n",
    "    scalarSnowDepth = np.repeat(scalar_var['scalarSnowDepth'], nhru).reshape([nscalarv, nhru])\n",
    "    scalarSfcMeltPond = np.repeat(scalar_var['scalarSfcMeltPond'], nhru).reshape([nscalarv, nhru])\n",
    "    scalarAquiferStorage = np.repeat(scalar_var['scalarAquiferStorage'], nhru).reshape([nscalarv, nhru])\n",
    "\n",
    "    iLayerHeight_tmp = np.append(layer_var['iLayerHeight'], \n",
    "                                 layer_var.loc[nmidToto - 1,'iLayerHeight'] + layer_var.loc[nmidToto - 1,'mLayerDepth'])\n",
    "    iLayerHeight = np.repeat(iLayerHeight_tmp, nhru).reshape([nifcToto, nhru])\n",
    "    mLayerDepth  = np.repeat(layer_var['mLayerDepth'], nhru).reshape([nmidToto, nhru])\n",
    "    mLayerTemp  = np.repeat(layer_var['mLayerTemp'], nhru).reshape([nmidToto, nhru])\n",
    "    mLayerVolFracIce  = np.repeat(layer_var['mLayerVolFracIce'], nhru).reshape([nmidToto, nhru])\n",
    "    mLayerVolFracLiq  = np.repeat(layer_var['mLayerVolFracLiq'], nhru).reshape([nmidToto, nhru])\n",
    "    mLayerMatricHead  = np.repeat(layer_var['mLayerMatricHead'], nhru).reshape([nmidSoil, nhru])\n",
    "\n",
    "\n",
    "    ini_nc = xr.Dataset({'nSnow':(['scalarv', 'hru'], nSnow),\n",
    "                         'nSoil':(['scalarv', 'hru'], nSoil),\n",
    "                         'dt_init':(['scalarv', 'hru'], dt_init),\n",
    "                         'scalarCanopyIce':(['scalarv', 'hru'], scalarCanopyIce),\n",
    "                         'scalarCanopyLiq':(['scalarv', 'hru'], scalarCanopyLiq),\n",
    "                         'scalarCanairTemp':(['scalarv', 'hru'], scalarCanairTemp),\n",
    "                         'scalarCanopyTemp':(['scalarv', 'hru'], scalarCanopyTemp),\n",
    "                         'scalarSnowAlbedo':(['scalarv', 'hru'], scalarSnowAlbedo),\n",
    "                         'scalarSWE':(['scalarv', 'hru'], scalarSWE),\n",
    "                         'scalarSnowDepth':(['scalarv', 'hru'], scalarSnowDepth),\n",
    "                         'scalarSfcMeltPond':(['scalarv', 'hru'], scalarSfcMeltPond),\n",
    "                         'scalarAquiferStorage':(['scalarv', 'hru'], scalarAquiferStorage),\n",
    "                         'iLayerHeight':(['ifcToto','hru'], iLayerHeight),\n",
    "                         'mLayerDepth':(['midToto', 'hru'], mLayerDepth),\n",
    "                         'mLayerTemp':(['midToto', 'hru'], mLayerTemp),\n",
    "                         'mLayerVolFracIce':(['midToto', 'hru'], mLayerVolFracIce),\n",
    "                         'mLayerVolFracLiq':(['midToto', 'hru'], mLayerVolFracLiq),\n",
    "                         'mLayerMatricHead':(['midSoil', 'hru'], mLayerMatricHead)})\n",
    "\n",
    "    return ini_nc\n",
    "\n",
    "#nhru = check_hru_num('settings_org/' + file_man['para_trial'])      \n",
    "#scalar_var, layer_var = read_ini_file('settings_org/' + file_man['initial_cond'])\n",
    "#%time nc = create_initi_nc(nhru, scalar_var, layer_var)\n",
    "#nc"
   ]
  },
  {
   "cell_type": "code",
   "execution_count": 18,
   "metadata": {
    "collapsed": false
   },
   "outputs": [],
   "source": [
    "### convert initial condition file to netcdf\n",
    "def convert_ini_nc(root, file_man):\n",
    "    nhru = check_hru_num(os.path.join(root, file_man['para_trial']))   \n",
    "    scalar_var, layer_var = read_ini_file(os.path.join(root, file_man['initial_cond']))\n",
    "    ini_nc = create_initi_nc(nhru, scalar_var, layer_var)\n",
    "    # strip the initial condition file\n",
    "    ini_nc_name = os.path.splitext(file_man['initial_cond'])[0] + '.nc'\n",
    "    ini_nc.to_netcdf(os.path.join(root, ini_nc_name))\n",
    "    return ini_nc_name\n",
    "    "
   ]
  },
  {
   "cell_type": "code",
   "execution_count": 18,
   "metadata": {
    "collapsed": false
   },
   "outputs": [
    {
     "data": {
      "text/plain": [
       "True"
      ]
     },
     "execution_count": 18,
     "metadata": {},
     "output_type": "execute_result"
    }
   ],
   "source": [
    "### convert forcing data to netcdf (done)\n",
    "'summa_fileManager' in 'summa_fileManager_millerSand.txt'"
   ]
  },
  {
   "cell_type": "code",
   "execution_count": 10,
   "metadata": {
    "collapsed": false
   },
   "outputs": [
    {
     "name": "stdout",
     "output_type": "stream",
     "text": [
      "converting settings_org\\syntheticTestCases\\celia1990/summa_fileManager_celia1990.txt\n",
      "converting settings_org\\syntheticTestCases\\miller1998/summa_fileManager_millerClay.txt\n",
      "converting settings_org\\syntheticTestCases\\miller1998/summa_fileManager_millerLoam.txt\n",
      "converting settings_org\\syntheticTestCases\\miller1998/summa_fileManager_millerSand.txt\n",
      "converting settings_org\\syntheticTestCases\\mizoguchi1990/summa_fileManager_mizoguchi.txt\n",
      "converting settings_org\\syntheticTestCases\\wigmosta1999/summa_fileManager-exp1.txt\n",
      "converting settings_org\\syntheticTestCases\\wigmosta1999/summa_fileManager-exp2.txt\n",
      "converting settings_org\\wrrPaperTestCases\\figure01/summa_fileManager_riparianAspenBeersLaw.txt\n",
      "converting settings_org\\wrrPaperTestCases\\figure01/summa_fileManager_riparianAspenCLM2stream.txt\n",
      "converting settings_org\\wrrPaperTestCases\\figure01/summa_fileManager_riparianAspenNLscatter.txt\n",
      "converting settings_org\\wrrPaperTestCases\\figure01/summa_fileManager_riparianAspenUEB2stream.txt\n",
      "converting settings_org\\wrrPaperTestCases\\figure01/summa_fileManager_riparianAspenVegParamPerturb.txt\n",
      "converting settings_org\\wrrPaperTestCases\\figure02/summa_fileManager_riparianAspenWindParamPerturb.txt\n",
      "converting settings_org\\wrrPaperTestCases\\figure03/summa_fileManager_riparianAspenExpWindProfile.txt\n",
      "converting settings_org\\wrrPaperTestCases\\figure05/summa_fileManager_9697_hedpom.txt\n",
      "converting settings_org\\wrrPaperTestCases\\figure05/summa_fileManager_9697_storck.txt\n",
      "converting settings_org\\wrrPaperTestCases\\figure05/summa_fileManager_9798_hedpom.txt\n",
      "converting settings_org\\wrrPaperTestCases\\figure05/summa_fileManager_9798_storck.txt\n",
      "converting settings_org\\wrrPaperTestCases\\figure06/summa_fileManager_reynoldsConstantDecayRate.txt\n",
      "converting settings_org\\wrrPaperTestCases\\figure06/summa_fileManager_reynoldsVariableDecayRate.txt\n",
      "converting settings_org\\wrrPaperTestCases\\figure06/summa_fileManager_senatorConstantDecayRate.txt\n",
      "converting settings_org\\wrrPaperTestCases\\figure06/summa_fileManager_senatorVariableDecayRate.txt\n",
      "converting settings_org\\wrrPaperTestCases\\figure07/summa_fileManager_riparianAspenBallBerry.txt\n",
      "converting settings_org\\wrrPaperTestCases\\figure07/summa_fileManager_riparianAspenJarvis.txt\n",
      "converting settings_org\\wrrPaperTestCases\\figure07/summa_fileManager_riparianAspenSimpleResistance.txt\n",
      "converting settings_org\\wrrPaperTestCases\\figure08/summa_fileManager_riparianAspenPerturbRoots.txt\n",
      "converting settings_org\\wrrPaperTestCases\\figure09/summa_fileManager_1dRichards.txt\n",
      "converting settings_org\\wrrPaperTestCases\\figure09/summa_fileManager_distributedTopmodel.txt\n",
      "converting settings_org\\wrrPaperTestCases\\figure09/summa_fileManager_lumpedTopmodel.txt\n"
     ]
    }
   ],
   "source": [
    "### loop all the fileManager files\n",
    "root = 'settings_org'\n",
    "for dirpath, dirnames, filenames in os.walk(root):\n",
    "    for filename in filenames:\n",
    "        if 'summa_fileManager' in filename:\n",
    "            print('converting ' + dirpath + '/' + filename)\n",
    "            file_man = read_file_manager(os.path.join(dirpath, filename))\n",
    "            # changing the output control file name\n",
    "            file_man['ouput_file'] = 'meta/Model_Output.txt'\n",
    "            # convert initial condition file to netcdf\n",
    "            if not file_man['initial_cond'].endswith('.nc'):\n",
    "                file_man['initial_cond'] = convert_ini_nc(root, file_man) \n",
    "            # write back the file manager\n",
    "            write_file_manager(file_man, os.path.join(dirpath, filename))"
   ]
  },
  {
   "cell_type": "code",
   "execution_count": 20,
   "metadata": {
    "collapsed": false
   },
   "outputs": [],
   "source": [
    "file_man = read_file_manager('summa_fileManager_columbia10.txt')\n",
    "# changing the output control file name\n",
    "file_man['ouput_file'] = 'oc_long.txt'\n",
    "# convert initial condition file to netcdf\n",
    "if not file_man['initial_cond'].endswith('.nc'):\n",
    "    file_man['initial_cond'] = convert_ini_nc(os.curdir, file_man) \n",
    "# write back the file manager\n",
    "write_file_manager(file_man, 'summa_fileManager_columbia10.txt')"
   ]
  },
  {
   "cell_type": "code",
   "execution_count": 12,
   "metadata": {
    "collapsed": false
   },
   "outputs": [
    {
     "ename": "TypeError",
     "evalue": "'str' object is not callable",
     "output_type": "error",
     "traceback": [
      "\u001b[0;31m---------------------------------------------------------------------------\u001b[0m",
      "\u001b[0;31mTypeError\u001b[0m                                 Traceback (most recent call last)",
      "\u001b[0;32m<ipython-input-12-2b29ef91032a>\u001b[0m in \u001b[0;36m<module>\u001b[0;34m()\u001b[0m\n\u001b[0;32m----> 1\u001b[0;31m \u001b[0mos\u001b[0m\u001b[1;33m.\u001b[0m\u001b[0mcurdir\u001b[0m\u001b[1;33m(\u001b[0m\u001b[1;33m)\u001b[0m\u001b[1;33m\u001b[0m\u001b[0m\n\u001b[0m",
      "\u001b[0;31mTypeError\u001b[0m: 'str' object is not callable"
     ]
    }
   ],
   "source": []
  },
  {
   "cell_type": "code",
   "execution_count": 21,
   "metadata": {
    "collapsed": false
   },
   "outputs": [
    {
     "data": {
      "text/plain": [
       "66.60795454545455"
      ]
     },
     "execution_count": 21,
     "metadata": {},
     "output_type": "execute_result"
    }
   ],
   "source": []
  }
 ],
 "metadata": {
  "anaconda-cloud": {},
  "kernelspec": {
   "display_name": "Python 3",
   "language": "python",
   "name": "python3"
  },
  "language_info": {
   "codemirror_mode": {
    "name": "ipython",
    "version": 3
   },
   "file_extension": ".py",
   "mimetype": "text/x-python",
   "name": "python",
   "nbconvert_exporter": "python",
   "pygments_lexer": "ipython3",
   "version": "3.5.2"
  }
 },
 "nbformat": 4,
 "nbformat_minor": 0
}
