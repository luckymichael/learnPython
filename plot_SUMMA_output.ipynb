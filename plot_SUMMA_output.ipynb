{
 "cells": [
  {
   "cell_type": "code",
   "execution_count": 1,
   "metadata": {
    "collapsed": true
   },
   "outputs": [],
   "source": [
    "%matplotlib inline\n",
    "import xarray as xr\n",
    "import numpy as np\n",
    "import matplotlib.pyplot as plt\n",
    "from matplotlib import gridspec"
   ]
  },
  {
   "cell_type": "code",
   "execution_count": 2,
   "metadata": {
    "collapsed": false
   },
   "outputs": [],
   "source": [
    "tfreeze = 273.16\n",
    "tzero   = 273.15\n",
    "\n",
    "ds_all = xr.open_dataset(r\"D:\\Cloud\\Dropbox\\postdoc\\summa\\summaData\\problematicHRU\\snow_too_low\\columbia_snow_too_low_spinup_1.nc\")"
   ]
  },
  {
   "cell_type": "code",
   "execution_count": 3,
   "metadata": {
    "collapsed": false
   },
   "outputs": [
    {
     "data": {
      "text/plain": [
       "<xarray.Dataset>\n",
       "Dimensions:                (hru: 1, ifcTotoAndTime: 336, midSoilAndTime: 336, midTotoAndTime: 336, time: 13)\n",
       "Coordinates:\n",
       "  * time                   (time) datetime64[ns] 1915-01-01 ...\n",
       "  * hru                    (hru) int64 0\n",
       "  * midTotoAndTime         (midTotoAndTime) int64 0 1 2 3 4 5 6 7 8 9 10 11 ...\n",
       "  * midSoilAndTime         (midSoilAndTime) int64 0 1 2 3 4 5 6 7 8 9 10 11 ...\n",
       "  * ifcTotoAndTime         (ifcTotoAndTime) int64 0 1 2 3 4 5 6 7 8 9 10 11 ...\n",
       "Data variables:\n",
       "    pptrate                (time, hru) float64 0.000295 0.000295 0.000295 ...\n",
       "    airtemp                (time, hru) float64 269.0 268.2 267.4 266.7 266.0 ...\n",
       "    windspd                (time, hru) float64 3.089 3.089 3.089 3.089 3.089 ...\n",
       "    nSnow                  (time, hru) int32 0 0 0 0 0 0 0 2 2 2 2 3 3\n",
       "    nSoil                  (time, hru) int32 8 8 8 8 8 8 8 8 8 8 8 8 8\n",
       "    nLayers                (time, hru) int32 8 8 8 8 8 8 8 10 10 10 10 11 11\n",
       "    midSoilStartIndex      (time, hru) int32 1 9 17 25 33 41 49 57 65 73 81 ...\n",
       "    midTotoStartIndex      (time, hru) int32 1 9 17 25 33 41 49 57 67 77 87 ...\n",
       "    ifcTotoStartIndex      (time, hru) int32 1 10 19 28 37 46 55 64 75 86 97 ...\n",
       "    scalarSWE              (time, hru) float64 0.0 0.6893 1.572 2.508 3.48 ...\n",
       "    mLayerTemp             (midTotoAndTime, hru) float64 273.7 280.7 283.3 ...\n",
       "    mLayerVolFracIce       (midTotoAndTime, hru) float64 0.0 0.0 0.0 0.0 0.0 ...\n",
       "    mLayerVolFracLiq       (midTotoAndTime, hru) float64 0.3717 0.372 0.3726 ...\n",
       "    mLayerVolFracWat       (midTotoAndTime, hru) float64 0.3718 0.372 0.3726 ...\n",
       "    mLayerMatricHead       (midSoilAndTime, hru) float64 -12.43 -12.38 ...\n",
       "    scalarSurfaceTemp      (time, hru) float64 273.7 273.0 273.0 272.9 272.6 ...\n",
       "    mLayerDepth            (midTotoAndTime, hru) float64 0.025 0.075 0.15 ...\n",
       "    iLayerHeight           (ifcTotoAndTime, hru) float64 -0.0 0.025 0.1 0.25 ...\n",
       "    scalarSnowSublimation  (time, hru) float64 0.0 0.0 0.0 0.0 0.0 0.0 0.0 ...\n",
       "    scalarThroughfallSnow  (time, hru) float64 0.0001911 0.0002327 0.0002544 ...\n",
       "    scalarThroughfallRain  (time, hru) float64 0.0 0.0 0.0 0.0 0.0 0.0 0.0 ...\n",
       "    scalarRainPlusMelt     (time, hru) float64 1.911e-07 0.0 0.0 0.0 0.0 0.0 ...\n",
       "    scalarInfiltration     (time, hru) float64 1.911e-07 0.0 0.0 0.0 0.0 0.0 ...\n",
       "    scalarExfiltration     (time, hru) float64 0.0 0.0 0.0 0.0 0.0 0.0 0.0 ...\n",
       "    scalarSurfaceRunoff    (time, hru) float64 0.0 0.0 0.0 0.0 0.0 0.0 0.0 ...\n",
       "    mLayerLiqFluxSoil      (midSoilAndTime, hru) float64 9.243e-07 8.969e-07 ...\n",
       "Attributes:\n",
       "    soilStress: NoahType\n",
       "    stomResist: BallBerry\n",
       "    num_method: itertive\n",
       "    fDerivMeth: analytic\n",
       "    LAI_method: specified\n",
       "    notPopulatedYet: notPopulatedYet\n",
       "    f_Richards: mixdform\n",
       "    groundwatr: qTopmodl\n",
       "    hc_profile: pow_prof\n",
       "    bcUpprTdyn: nrg_flux\n",
       "    bcLowrTdyn: zeroFlux\n",
       "    bcUpprSoiH: liq_flux\n",
       "    bcLowrSoiH: zeroFlux\n",
       "    veg_traits: CM_QJRMS1998\n",
       "    canopyEmis: difTrans\n",
       "    snowIncept: lightSnow\n",
       "    windPrfile: logBelowCanopy\n",
       "    astability: louisinv\n",
       "    canopySrad: BeersLaw\n",
       "    alb_method: varDecay\n",
       "    snowLayers: CLM_2010\n",
       "    compaction: anderson\n",
       "    thCondSnow: jrdn1991\n",
       "    thCondSoil: funcSoilWet\n",
       "    spatial_gw: localColumn\n",
       "    subRouting: timeDlay"
      ]
     },
     "execution_count": 3,
     "metadata": {},
     "output_type": "execute_result"
    }
   ],
   "source": [
    "ds_all"
   ]
  },
  {
   "cell_type": "code",
   "execution_count": 4,
   "metadata": {
    "collapsed": false
   },
   "outputs": [
    {
     "data": {
      "text/plain": [
       "[<matplotlib.lines.Line2D at 0x21082ced9b0>]"
      ]
     },
     "execution_count": 4,
     "metadata": {},
     "output_type": "execute_result"
    },
    {
     "data": {
      "image/png": "[encoded data removed]",
      "text/plain": [
       "<matplotlib.figure.Figure at 0x21082bf0400>"
      ]
     },
     "metadata": {},
     "output_type": "display_data"
    }
   ],
   "source": [
    "ds_all.pptrate.plot()\n",
    "ds_all.airtemp.plot()"
   ]
  },
  {
   "cell_type": "code",
   "execution_count": 5,
   "metadata": {
    "collapsed": false
   },
   "outputs": [
    {
     "data": {
      "text/plain": [
       "[<matplotlib.lines.Line2D at 0x21082d536d8>]"
      ]
     },
     "execution_count": 5,
     "metadata": {},
     "output_type": "execute_result"
    },
    {
     "data": {
      "image/png": "[encoded data removed]",
      "text/plain": [
       "<matplotlib.figure.Figure at 0x21082d1da58>"
      ]
     },
     "metadata": {},
     "output_type": "display_data"
    }
   ],
   "source": [
    "ds_all.pptrate.plot(label = 'pptrate')\n",
    "plt.plot"
   ]
  },
  {
   "cell_type": "code",
   "execution_count": 6,
   "metadata": {
    "collapsed": false
   },
   "outputs": [
    {
     "ename": "AttributeError",
     "evalue": "'Dataset' object has no attribute 'LWRadAtm'",
     "output_type": "error",
     "traceback": [
      "\u001b[0;31m---------------------------------------------------------------------------\u001b[0m",
      "\u001b[0;31mAttributeError\u001b[0m                            Traceback (most recent call last)",
      "\u001b[0;32m<ipython-input-6-51f8f6ca11eb>\u001b[0m in \u001b[0;36m<module>\u001b[0;34m()\u001b[0m\n\u001b[0;32m----> 1\u001b[0;31m \u001b[0mds_all\u001b[0m\u001b[0;34m.\u001b[0m\u001b[0mLWRadAtm\u001b[0m\u001b[0;34m.\u001b[0m\u001b[0mplot\u001b[0m\u001b[0;34m(\u001b[0m\u001b[0mlabel\u001b[0m \u001b[0;34m=\u001b[0m \u001b[0;34m'pptrate'\u001b[0m\u001b[0;34m)\u001b[0m\u001b[0;34m\u001b[0m\u001b[0m\n\u001b[0m",
      "\u001b[0;32mC:\\Anaconda3\\lib\\site-packages\\xarray\\core\\common.py\u001b[0m in \u001b[0;36m__getattr__\u001b[0;34m(self, name)\u001b[0m\n\u001b[1;32m    192\u001b[0m                     \u001b[0;32mreturn\u001b[0m \u001b[0msource\u001b[0m\u001b[0;34m[\u001b[0m\u001b[0mname\u001b[0m\u001b[0;34m]\u001b[0m\u001b[0;34m\u001b[0m\u001b[0m\n\u001b[1;32m    193\u001b[0m         raise AttributeError(\"%r object has no attribute %r\" %\n\u001b[0;32m--> 194\u001b[0;31m                              (type(self).__name__, name))\n\u001b[0m\u001b[1;32m    195\u001b[0m \u001b[0;34m\u001b[0m\u001b[0m\n\u001b[1;32m    196\u001b[0m     \u001b[0;32mdef\u001b[0m \u001b[0m__setattr__\u001b[0m\u001b[0;34m(\u001b[0m\u001b[0mself\u001b[0m\u001b[0;34m,\u001b[0m \u001b[0mname\u001b[0m\u001b[0;34m,\u001b[0m \u001b[0mvalue\u001b[0m\u001b[0;34m)\u001b[0m\u001b[0;34m:\u001b[0m\u001b[0;34m\u001b[0m\u001b[0m\n",
      "\u001b[0;31mAttributeError\u001b[0m: 'Dataset' object has no attribute 'LWRadAtm'"
     ]
    }
   ],
   "source": [
    "ds_all.LWRadAtm.plot()"
   ]
  },
  {
   "cell_type": "code",
   "execution_count": null,
   "metadata": {
    "collapsed": false
   },
   "outputs": [],
   "source": [
    "ds_all.SWRadAtm.plot(label = 'pptrate')"
   ]
  },
  {
   "cell_type": "code",
   "execution_count": null,
   "metadata": {
    "collapsed": false
   },
   "outputs": [],
   "source": [
    "ds_all.spechum.plot()"
   ]
  },
  {
   "cell_type": "code",
   "execution_count": null,
   "metadata": {
    "collapsed": false
   },
   "outputs": [],
   "source": [
    "ds_all.windspd.plot()"
   ]
  }
 ],
 "metadata": {
  "anaconda-cloud": {},
  "kernelspec": {
   "display_name": "Python [default]",
   "language": "python",
   "name": "python3"
  },
  "language_info": {
   "codemirror_mode": {
    "name": "ipython",
    "version": 3
   },
   "file_extension": ".py",
   "mimetype": "text/x-python",
   "name": "python",
   "nbconvert_exporter": "python",
   "pygments_lexer": "ipython3",
   "version": "3.5.2"
  }
 },
 "nbformat": 4,
 "nbformat_minor": 0
}
