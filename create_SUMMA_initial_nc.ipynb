{
 "cells": [
  {
   "cell_type": "code",
   "execution_count": 1,
   "metadata": {
    "collapsed": true
   },
   "outputs": [],
   "source": [
    "import xarray as xr\n",
    "import numpy as np"
   ]
  },
  {
   "cell_type": "code",
   "execution_count": 2,
   "metadata": {
    "collapsed": true
   },
   "outputs": [],
   "source": [
    "nhru = 11723\n",
    "nspec = 2\n",
    "nmidSoil = 8\n",
    "nifcSoil = nmidSoil + 1\n",
    "nmidToto = 8\n",
    "nifcToto = nmidToto + 1\n",
    "nscalarv = 1\n",
    "\n",
    "nSnow                = np.empty([nscalarv, nhru], dtype = np.int16)\n",
    "nSoil                = np.empty([nscalarv, nhru], dtype = np.int16)\n",
    "dt_init              = np.empty([nscalarv, nhru])\n",
    "scalarCanopyIce      = np.empty([nscalarv, nhru])\n",
    "scalarCanopyLiq      = np.empty([nscalarv, nhru])\n",
    "scalarCanairTemp     = np.empty([nscalarv, nhru])\n",
    "scalarCanopyTemp     = np.empty([nscalarv, nhru])\n",
    "scalarSnowAlbedo     = np.empty([nscalarv, nhru])\n",
    "scalarSWE            = np.empty([nscalarv, nhru])\n",
    "scalarSnowDepth      = np.empty([nscalarv, nhru])\n",
    "scalarSfcMeltPond    = np.empty([nscalarv, nhru])\n",
    "scalarAquiferStorage = np.empty([nscalarv, nhru])\n",
    "iLayerHeight         = np.empty([nifcToto, nhru])\n",
    "mLayerDepth          = np.empty([nmidToto, nhru])\n",
    "mLayerTemp           = np.empty([nmidToto, nhru])\n",
    "mLayerVolFracIce     = np.empty([nmidToto, nhru])\n",
    "mLayerVolFracLiq     = np.empty([nmidToto, nhru])\n",
    "mLayerMatricHead     = np.empty([nmidSoil, nhru])"
   ]
  },
  {
   "cell_type": "code",
   "execution_count": 22,
   "metadata": {
    "collapsed": true
   },
   "outputs": [],
   "source": [
    "nSnow.fill(0)\n",
    "nSoil.fill(8)\n",
    "dt_init.fill(360.0)\n",
    "scalarCanopyIce.fill(0.0)\n",
    "scalarCanopyLiq.fill(1.0)\n",
    "scalarCanairTemp.fill(275.0)\n",
    "scalarCanopyTemp.fill(275.0)\n",
    "scalarSnowAlbedo.fill(0.82)\n",
    "scalarSWE.fill(0.0)\n",
    "scalarSnowDepth.fill(0.0)\n",
    "scalarSfcMeltPond.fill(0.0)\n",
    "scalarAquiferStorage.fill(0.0)"
   ]
  },
  {
   "cell_type": "code",
   "execution_count": 23,
   "metadata": {
    "collapsed": false
   },
   "outputs": [],
   "source": [
    "iLayerHeight = np.repeat([0, 0.025, 0.1, 0.25, 0.5, 1.0, 1.5, 2.5, 4.0], nhru).reshape([nifcToto, nhru])\n",
    "mLayerDepth  = np.repeat([0.025, 0.075, 0.15, 0.25, 0.5, 0.5, 1.0, 1.5], nhru).reshape([nmidToto, nhru])\n",
    "mLayerTemp.fill(283.5)\n",
    "mLayerVolFracIce.fill(0.0)\n",
    "mLayerVolFracLiq.fill(0.3)\n",
    "mLayerMatricHead.fill(-10.0)"
   ]
  },
  {
   "cell_type": "code",
   "execution_count": 24,
   "metadata": {
    "collapsed": false
   },
   "outputs": [],
   "source": [
    "ini_nc = xr.Dataset({'nSnow':(['scalarv', 'hru'], nSnow),\n",
    "                     'nSoil':(['scalarv', 'hru'], nSoil),\n",
    "                     'dt_init':(['scalarv', 'hru'], dt_init),\n",
    "                     'scalarCanopyIce':(['scalarv', 'hru'], scalarCanopyIce),\n",
    "                     'scalarCanopyLiq':(['scalarv', 'hru'], scalarCanopyLiq),\n",
    "                     'scalarCanairTemp':(['scalarv', 'hru'], scalarCanairTemp),\n",
    "                     'scalarCanopyTemp':(['scalarv', 'hru'], scalarCanopyTemp),\n",
    "                     'scalarSnowAlbedo':(['scalarv', 'hru'], scalarSnowAlbedo),\n",
    "                     'scalarSWE':(['scalarv', 'hru'], scalarSWE),\n",
    "                     'scalarSnowDepth':(['scalarv', 'hru'], scalarSnowDepth),\n",
    "                     'scalarSfcMeltPond':(['scalarv', 'hru'], scalarSfcMeltPond),\n",
    "                     'scalarAquiferStorage':(['scalarv', 'hru'], scalarAquiferStorage),\n",
    "                     'iLayerHeight':(['ifcToto','hru'], iLayerHeight),\n",
    "                     'mLayerDepth':(['midToto', 'hru'], mLayerDepth),\n",
    "                     'mLayerTemp':(['midToto', 'hru'], mLayerTemp),\n",
    "                     'mLayerVolFracIce':(['midToto', 'hru'], mLayerVolFracIce),\n",
    "                     'mLayerVolFracLiq':(['midToto', 'hru'], mLayerVolFracLiq),\n",
    "                     'mLayerMatricHead':(['midSoil', 'hru'], mLayerMatricHead)})"
   ]
  },
  {
   "cell_type": "code",
   "execution_count": 25,
   "metadata": {
    "collapsed": false
   },
   "outputs": [],
   "source": [
    "ini_nc.to_netcdf(r'D:\\Cloud\\Dropbox\\postdoc\\summa\\summaData\\summa_run\\ini_crb.nc', format = 'NETCDF4_CLASSIC')"
   ]
  },
  {
   "cell_type": "code",
   "execution_count": 18,
   "metadata": {
    "collapsed": false
   },
   "outputs": [
    {
     "data": {
      "text/plain": [
       "105.81818181818181"
      ]
     },
     "execution_count": 18,
     "metadata": {},
     "output_type": "execute_result"
    }
   ],
   "source": [
    "12*(2011-1915+1) / 11 "
   ]
  },
  {
   "cell_type": "code",
   "execution_count": 21,
   "metadata": {
    "collapsed": false
   },
   "outputs": [
    {
     "data": {
      "text/plain": [
       "66.60795454545455"
      ]
     },
     "execution_count": 21,
     "metadata": {},
     "output_type": "execute_result"
    }
   ],
   "source": [
    "11723/16/11"
   ]
  }
 ],
 "metadata": {
  "kernelspec": {
   "display_name": "Python 3",
   "language": "python",
   "name": "python3"
  },
  "language_info": {
   "codemirror_mode": {
    "name": "ipython",
    "version": 3
   },
   "file_extension": ".py",
   "mimetype": "text/x-python",
   "name": "python",
   "nbconvert_exporter": "python",
   "pygments_lexer": "ipython3",
   "version": "3.4.5"
  }
 },
 "nbformat": 4,
 "nbformat_minor": 0
}
